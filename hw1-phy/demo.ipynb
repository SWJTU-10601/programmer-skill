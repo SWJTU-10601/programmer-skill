{
 "cells": [
  {
   "cell_type": "markdown",
   "metadata": {},
   "source": [
    "# 1、读取文件夹图片目录\n",
    "\n",
    "(在jupyter中读取.\\image时会将图像缩略文件thumbs.db读取到列表中，此处直接删除了它\n",
    "在pycharm中未出现这种情况)"
   ]
  },
  {
   "cell_type": "code",
   "execution_count": 3,
   "metadata": {},
   "outputs": [
    {
     "name": "stdout",
     "output_type": "stream",
     "text": [
      "filename:  ['x-1.JPG', 'x-11.JPG', 'x-2.JPG', 'x-3.JPG', 'x-7.JPG']\n"
     ]
    }
   ],
   "source": [
    "import os\n",
    "filepath = \".\\image\"\n",
    "filename = os.listdir(filepath)\n",
    "del filename[0]\n",
    "print ('filename: ', filename)"
   ]
  },
  {
   "cell_type": "markdown",
   "metadata": {},
   "source": [
    "# 2、打开txt文件，准备写入\n",
    "\n",
    "# 3、通过for循环，分割两次列表元素名称\n",
    "\n",
    "# 4、将分割好的数字写入txt文件\n"
   ]
  },
  {
   "cell_type": "code",
   "execution_count": 7,
   "metadata": {},
   "outputs": [
    {
     "name": "stdout",
     "output_type": "stream",
     "text": [
      "delfinal:  1\n",
      "delfinal:  11\n",
      "delfinal:  2\n",
      "delfinal:  3\n",
      "delfinal:  7\n"
     ]
    }
   ],
   "source": [
    "with open('1.txt','w') as f:\n",
    "    for fileindex,fileval in enumerate(filename):\n",
    "#         print ('fileval: ',fileval)\n",
    "        delfront = fileval.split('-')\n",
    "#         print ('delfront: ',delfront[1])\n",
    "        delfinal = delfront[1].split('.')\n",
    "        print ('delfinal: ', delfinal[0])\n",
    "        # for write in delfinal[0]:\n",
    "        f.writelines( delfinal[0] + '\\n')"
   ]
  },
  {
   "cell_type": "markdown",
   "metadata": {},
   "source": [
    "# 5、打开txt文件，读取所有行，返回列表\n",
    "\n",
    "# 6、按行打印内容并关闭文件\n"
   ]
  },
  {
   "cell_type": "code",
   "execution_count": 5,
   "metadata": {},
   "outputs": [
    {
     "name": "stdout",
     "output_type": "stream",
     "text": [
      "each line:  1\n",
      "\n",
      "each line:  11\n",
      "\n",
      "each line:  2\n",
      "\n",
      "each line:  3\n",
      "\n",
      "each line:  7\n",
      "\n"
     ]
    }
   ],
   "source": [
    "with open('1.txt', 'r') as f:\n",
    "    lines = f.readlines()\n",
    "    for line in lines:\n",
    "        print ('each line: ', line)"
   ]
  },
  {
   "cell_type": "code",
   "execution_count": null,
   "metadata": {},
   "outputs": [],
   "source": []
  }
 ],
 "metadata": {
  "kernelspec": {
   "display_name": "Python [conda env:anaconda-64bit]",
   "language": "python",
   "name": "conda-env-anaconda-64bit-py"
  },
  "language_info": {
   "codemirror_mode": {
    "name": "ipython",
    "version": 3
   },
   "file_extension": ".py",
   "mimetype": "text/x-python",
   "name": "python",
   "nbconvert_exporter": "python",
   "pygments_lexer": "ipython3",
   "version": "3.6.3"
  }
 },
 "nbformat": 4,
 "nbformat_minor": 2
}
